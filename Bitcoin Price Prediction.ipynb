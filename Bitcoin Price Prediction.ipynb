{
 "cells": [
  {
   "cell_type": "markdown",
   "metadata": {},
   "source": [
    "# Bitcoin Price Prediction :\n",
    "1. Bitcoin (₿) is a cryptocurrency, a form of electronic cash. It is a decentralized digital currency without a central bank or single administrator, though some researchers point at a trend towards centralization.\n",
    "\n",
    "2. Bitcoins can be sent from user to user on the peer-to-peer bitcoin network directly, without the need for intermediaries, though intermediaries are widely used.Transactions are verified by network nodes through cryptography and recorded in a public distributed ledger called a blockchain.\n",
    "\n",
    "<b> Dataset Obtained using the API -> https://min-api.cryptocompare.com/ </b>\n",
    "\n",
    "<b> Dataset Properties </b>\n",
    "1. Number of Rows -> 2001\n",
    "2. Number of Columns/Features -> 7\n",
    "3. Historical Data obtained using the API above.\n",
    "\n",
    "<b> Columns/Features </b>\n",
    "1. Close (Target Variable/Feature) - Bitcoin price in USD at the time of closing.\n",
    "2. Open - Bitcoin Price at the time of opening.\n",
    "3. High - Highest Price in USD of a bitcoin during a transanction period.\n",
    "4. Low - Lowest Price in USD of a bitcoin during a transanction period.\n",
    "5. Time - Date/Time of the transanction period. (Here it denotes just the day transanction opened)\n",
    "6. VolumeFrom - Total amount of bitcoin exchange that took place during the transanction period.\n",
    "7. VolumeTo - Total amount of USD exchange that took place during the transanction period.\n",
    "\n",
    "Note -> Here transanction period is a day"
   ]
  },
  {
   "cell_type": "markdown",
   "metadata": {},
   "source": [
    "## Problem statement :\n",
    "<b> Given the historical data about the bitcoin exhanges, predict the close price of bitcoin the next(future) days </b>"
   ]
  },
  {
   "cell_type": "markdown",
   "metadata": {},
   "source": [
    "## Constraints :\n",
    "1. Slightly lesser Latency (as the prices of bitcoin changes rapidly we need to calculate the predicted price in somewhat reasonable time).\n",
    "2. Interpretability is not important.\n",
    "3. Errors are costly. ( Costly, but not much, a person wont die if he loses some money :) )"
   ]
  },
  {
   "cell_type": "markdown",
   "metadata": {},
   "source": [
    "## Importing Libraries :"
   ]
  },
  {
   "cell_type": "code",
   "execution_count": 28,
   "metadata": {},
   "outputs": [],
   "source": [
    "import numpy as np\n",
    "import pandas as pd\n",
    "import matplotlib.pyplot as plt\n",
    "import seaborn as sns\n",
    "import requests\n",
    "import datetime\n",
    "%matplotlib inline"
   ]
  },
  {
   "cell_type": "markdown",
   "metadata": {},
   "source": [
    "## Getting the dataset using the API :"
   ]
  },
  {
   "cell_type": "code",
   "execution_count": 47,
   "metadata": {},
   "outputs": [],
   "source": [
    "json_data = requests.post(\"https://min-api.cryptocompare.com/data/histoday?fsym=BTC&tsym=USD&limit=2000\").json()"
   ]
  },
  {
   "cell_type": "code",
   "execution_count": 48,
   "metadata": {},
   "outputs": [
    {
     "data": {
      "text/html": [
       "<div>\n",
       "<style scoped>\n",
       "    .dataframe tbody tr th:only-of-type {\n",
       "        vertical-align: middle;\n",
       "    }\n",
       "\n",
       "    .dataframe tbody tr th {\n",
       "        vertical-align: top;\n",
       "    }\n",
       "\n",
       "    .dataframe thead th {\n",
       "        text-align: right;\n",
       "    }\n",
       "</style>\n",
       "<table border=\"1\" class=\"dataframe\">\n",
       "  <thead>\n",
       "    <tr style=\"text-align: right;\">\n",
       "      <th></th>\n",
       "      <th>close</th>\n",
       "      <th>high</th>\n",
       "      <th>low</th>\n",
       "      <th>open</th>\n",
       "      <th>time</th>\n",
       "      <th>volumefrom</th>\n",
       "      <th>volumeto</th>\n",
       "    </tr>\n",
       "  </thead>\n",
       "  <tbody>\n",
       "    <tr>\n",
       "      <th>1996</th>\n",
       "      <td>7610.90</td>\n",
       "      <td>7760.74</td>\n",
       "      <td>7449.31</td>\n",
       "      <td>7736.25</td>\n",
       "      <td>1533081600</td>\n",
       "      <td>78466.37</td>\n",
       "      <td>5.954028e+08</td>\n",
       "    </tr>\n",
       "    <tr>\n",
       "      <th>1997</th>\n",
       "      <td>7542.34</td>\n",
       "      <td>7713.32</td>\n",
       "      <td>7470.86</td>\n",
       "      <td>7610.90</td>\n",
       "      <td>1533168000</td>\n",
       "      <td>55711.79</td>\n",
       "      <td>4.240936e+08</td>\n",
       "    </tr>\n",
       "    <tr>\n",
       "      <th>1998</th>\n",
       "      <td>7417.60</td>\n",
       "      <td>7542.49</td>\n",
       "      <td>7296.76</td>\n",
       "      <td>7542.34</td>\n",
       "      <td>1533254400</td>\n",
       "      <td>79126.57</td>\n",
       "      <td>5.869825e+08</td>\n",
       "    </tr>\n",
       "    <tr>\n",
       "      <th>1999</th>\n",
       "      <td>7017.89</td>\n",
       "      <td>7490.89</td>\n",
       "      <td>6940.15</td>\n",
       "      <td>7417.60</td>\n",
       "      <td>1533340800</td>\n",
       "      <td>74300.44</td>\n",
       "      <td>5.340029e+08</td>\n",
       "    </tr>\n",
       "    <tr>\n",
       "      <th>2000</th>\n",
       "      <td>6985.16</td>\n",
       "      <td>7092.53</td>\n",
       "      <td>6898.31</td>\n",
       "      <td>7017.89</td>\n",
       "      <td>1533427200</td>\n",
       "      <td>26535.17</td>\n",
       "      <td>1.860206e+08</td>\n",
       "    </tr>\n",
       "  </tbody>\n",
       "</table>\n",
       "</div>"
      ],
      "text/plain": [
       "        close     high      low     open        time  volumefrom      volumeto\n",
       "1996  7610.90  7760.74  7449.31  7736.25  1533081600    78466.37  5.954028e+08\n",
       "1997  7542.34  7713.32  7470.86  7610.90  1533168000    55711.79  4.240936e+08\n",
       "1998  7417.60  7542.49  7296.76  7542.34  1533254400    79126.57  5.869825e+08\n",
       "1999  7017.89  7490.89  6940.15  7417.60  1533340800    74300.44  5.340029e+08\n",
       "2000  6985.16  7092.53  6898.31  7017.89  1533427200    26535.17  1.860206e+08"
      ]
     },
     "execution_count": 48,
     "metadata": {},
     "output_type": "execute_result"
    }
   ],
   "source": [
    "data = pd.DataFrame(json_data['Data'])\n",
    "data.tail()"
   ]
  },
  {
   "cell_type": "code",
   "execution_count": 49,
   "metadata": {},
   "outputs": [
    {
     "data": {
      "text/plain": [
       "(2001, 7)"
      ]
     },
     "execution_count": 49,
     "metadata": {},
     "output_type": "execute_result"
    }
   ],
   "source": [
    "data.shape"
   ]
  },
  {
   "cell_type": "markdown",
   "metadata": {},
   "source": [
    "## Data Preprocessing :"
   ]
  },
  {
   "cell_type": "code",
   "execution_count": 50,
   "metadata": {},
   "outputs": [
    {
     "data": {
      "text/plain": [
       "close         0\n",
       "high          0\n",
       "low           0\n",
       "open          0\n",
       "time          0\n",
       "volumefrom    0\n",
       "volumeto      0\n",
       "dtype: int64"
      ]
     },
     "execution_count": 50,
     "metadata": {},
     "output_type": "execute_result"
    }
   ],
   "source": [
    "data.isnull().sum()"
   ]
  },
  {
   "cell_type": "code",
   "execution_count": 52,
   "metadata": {},
   "outputs": [
    {
     "data": {
      "text/html": [
       "<div>\n",
       "<style scoped>\n",
       "    .dataframe tbody tr th:only-of-type {\n",
       "        vertical-align: middle;\n",
       "    }\n",
       "\n",
       "    .dataframe tbody tr th {\n",
       "        vertical-align: top;\n",
       "    }\n",
       "\n",
       "    .dataframe thead th {\n",
       "        text-align: right;\n",
       "    }\n",
       "</style>\n",
       "<table border=\"1\" class=\"dataframe\">\n",
       "  <thead>\n",
       "    <tr style=\"text-align: right;\">\n",
       "      <th></th>\n",
       "      <th>close</th>\n",
       "      <th>high</th>\n",
       "      <th>low</th>\n",
       "      <th>open</th>\n",
       "      <th>time</th>\n",
       "      <th>volumefrom</th>\n",
       "      <th>volumeto</th>\n",
       "    </tr>\n",
       "  </thead>\n",
       "  <tbody>\n",
       "    <tr>\n",
       "      <th>count</th>\n",
       "      <td>2001.000000</td>\n",
       "      <td>2001.000000</td>\n",
       "      <td>2001.000000</td>\n",
       "      <td>2001.00000</td>\n",
       "      <td>2.001000e+03</td>\n",
       "      <td>2001.000000</td>\n",
       "      <td>2.001000e+03</td>\n",
       "    </tr>\n",
       "    <tr>\n",
       "      <th>mean</th>\n",
       "      <td>1964.493298</td>\n",
       "      <td>2032.874563</td>\n",
       "      <td>1878.023093</td>\n",
       "      <td>1961.01927</td>\n",
       "      <td>1.447027e+09</td>\n",
       "      <td>63789.533158</td>\n",
       "      <td>2.056642e+08</td>\n",
       "    </tr>\n",
       "    <tr>\n",
       "      <th>std</th>\n",
       "      <td>3316.758668</td>\n",
       "      <td>3452.568702</td>\n",
       "      <td>3140.223879</td>\n",
       "      <td>3315.16158</td>\n",
       "      <td>4.992047e+07</td>\n",
       "      <td>59956.985027</td>\n",
       "      <td>4.931185e+08</td>\n",
       "    </tr>\n",
       "    <tr>\n",
       "      <th>min</th>\n",
       "      <td>24.200000</td>\n",
       "      <td>25.830000</td>\n",
       "      <td>21.720000</td>\n",
       "      <td>24.20000</td>\n",
       "      <td>1.360627e+09</td>\n",
       "      <td>404.380000</td>\n",
       "      <td>2.101127e+05</td>\n",
       "    </tr>\n",
       "    <tr>\n",
       "      <th>25%</th>\n",
       "      <td>265.460000</td>\n",
       "      <td>273.570000</td>\n",
       "      <td>259.000000</td>\n",
       "      <td>265.03000</td>\n",
       "      <td>1.403827e+09</td>\n",
       "      <td>22803.350000</td>\n",
       "      <td>6.837219e+06</td>\n",
       "    </tr>\n",
       "    <tr>\n",
       "      <th>50%</th>\n",
       "      <td>518.090000</td>\n",
       "      <td>540.880000</td>\n",
       "      <td>499.710000</td>\n",
       "      <td>517.94000</td>\n",
       "      <td>1.447027e+09</td>\n",
       "      <td>48878.180000</td>\n",
       "      <td>1.893281e+07</td>\n",
       "    </tr>\n",
       "    <tr>\n",
       "      <th>75%</th>\n",
       "      <td>1179.220000</td>\n",
       "      <td>1211.740000</td>\n",
       "      <td>1131.350000</td>\n",
       "      <td>1177.33000</td>\n",
       "      <td>1.490227e+09</td>\n",
       "      <td>86516.580000</td>\n",
       "      <td>9.245835e+07</td>\n",
       "    </tr>\n",
       "    <tr>\n",
       "      <th>max</th>\n",
       "      <td>19345.490000</td>\n",
       "      <td>19870.620000</td>\n",
       "      <td>18750.910000</td>\n",
       "      <td>19346.60000</td>\n",
       "      <td>1.533427e+09</td>\n",
       "      <td>572349.320000</td>\n",
       "      <td>6.245732e+09</td>\n",
       "    </tr>\n",
       "  </tbody>\n",
       "</table>\n",
       "</div>"
      ],
      "text/plain": [
       "              close          high           low         open          time  \\\n",
       "count   2001.000000   2001.000000   2001.000000   2001.00000  2.001000e+03   \n",
       "mean    1964.493298   2032.874563   1878.023093   1961.01927  1.447027e+09   \n",
       "std     3316.758668   3452.568702   3140.223879   3315.16158  4.992047e+07   \n",
       "min       24.200000     25.830000     21.720000     24.20000  1.360627e+09   \n",
       "25%      265.460000    273.570000    259.000000    265.03000  1.403827e+09   \n",
       "50%      518.090000    540.880000    499.710000    517.94000  1.447027e+09   \n",
       "75%     1179.220000   1211.740000   1131.350000   1177.33000  1.490227e+09   \n",
       "max    19345.490000  19870.620000  18750.910000  19346.60000  1.533427e+09   \n",
       "\n",
       "          volumefrom      volumeto  \n",
       "count    2001.000000  2.001000e+03  \n",
       "mean    63789.533158  2.056642e+08  \n",
       "std     59956.985027  4.931185e+08  \n",
       "min       404.380000  2.101127e+05  \n",
       "25%     22803.350000  6.837219e+06  \n",
       "50%     48878.180000  1.893281e+07  \n",
       "75%     86516.580000  9.245835e+07  \n",
       "max    572349.320000  6.245732e+09  "
      ]
     },
     "execution_count": 52,
     "metadata": {},
     "output_type": "execute_result"
    }
   ],
   "source": [
    "data.describe()"
   ]
  },
  {
   "cell_type": "code",
   "execution_count": 53,
   "metadata": {},
   "outputs": [],
   "source": [
    "data['time'] = data['time'].apply(lambda x: datetime.datetime.fromtimestamp(x).strftime(\"%Y-%m-%d\"))"
   ]
  },
  {
   "cell_type": "code",
   "execution_count": 54,
   "metadata": {},
   "outputs": [
    {
     "data": {
      "text/html": [
       "<div>\n",
       "<style scoped>\n",
       "    .dataframe tbody tr th:only-of-type {\n",
       "        vertical-align: middle;\n",
       "    }\n",
       "\n",
       "    .dataframe tbody tr th {\n",
       "        vertical-align: top;\n",
       "    }\n",
       "\n",
       "    .dataframe thead th {\n",
       "        text-align: right;\n",
       "    }\n",
       "</style>\n",
       "<table border=\"1\" class=\"dataframe\">\n",
       "  <thead>\n",
       "    <tr style=\"text-align: right;\">\n",
       "      <th></th>\n",
       "      <th>close</th>\n",
       "      <th>high</th>\n",
       "      <th>low</th>\n",
       "      <th>open</th>\n",
       "      <th>time</th>\n",
       "      <th>volumefrom</th>\n",
       "      <th>volumeto</th>\n",
       "    </tr>\n",
       "  </thead>\n",
       "  <tbody>\n",
       "    <tr>\n",
       "      <th>1996</th>\n",
       "      <td>7610.90</td>\n",
       "      <td>7760.74</td>\n",
       "      <td>7449.31</td>\n",
       "      <td>7736.25</td>\n",
       "      <td>2018-08-01</td>\n",
       "      <td>78466.37</td>\n",
       "      <td>5.954028e+08</td>\n",
       "    </tr>\n",
       "    <tr>\n",
       "      <th>1997</th>\n",
       "      <td>7542.34</td>\n",
       "      <td>7713.32</td>\n",
       "      <td>7470.86</td>\n",
       "      <td>7610.90</td>\n",
       "      <td>2018-08-02</td>\n",
       "      <td>55711.79</td>\n",
       "      <td>4.240936e+08</td>\n",
       "    </tr>\n",
       "    <tr>\n",
       "      <th>1998</th>\n",
       "      <td>7417.60</td>\n",
       "      <td>7542.49</td>\n",
       "      <td>7296.76</td>\n",
       "      <td>7542.34</td>\n",
       "      <td>2018-08-03</td>\n",
       "      <td>79126.57</td>\n",
       "      <td>5.869825e+08</td>\n",
       "    </tr>\n",
       "    <tr>\n",
       "      <th>1999</th>\n",
       "      <td>7017.89</td>\n",
       "      <td>7490.89</td>\n",
       "      <td>6940.15</td>\n",
       "      <td>7417.60</td>\n",
       "      <td>2018-08-04</td>\n",
       "      <td>74300.44</td>\n",
       "      <td>5.340029e+08</td>\n",
       "    </tr>\n",
       "    <tr>\n",
       "      <th>2000</th>\n",
       "      <td>6985.16</td>\n",
       "      <td>7092.53</td>\n",
       "      <td>6898.31</td>\n",
       "      <td>7017.89</td>\n",
       "      <td>2018-08-05</td>\n",
       "      <td>26535.17</td>\n",
       "      <td>1.860206e+08</td>\n",
       "    </tr>\n",
       "  </tbody>\n",
       "</table>\n",
       "</div>"
      ],
      "text/plain": [
       "        close     high      low     open        time  volumefrom      volumeto\n",
       "1996  7610.90  7760.74  7449.31  7736.25  2018-08-01    78466.37  5.954028e+08\n",
       "1997  7542.34  7713.32  7470.86  7610.90  2018-08-02    55711.79  4.240936e+08\n",
       "1998  7417.60  7542.49  7296.76  7542.34  2018-08-03    79126.57  5.869825e+08\n",
       "1999  7017.89  7490.89  6940.15  7417.60  2018-08-04    74300.44  5.340029e+08\n",
       "2000  6985.16  7092.53  6898.31  7017.89  2018-08-05    26535.17  1.860206e+08"
      ]
     },
     "execution_count": 54,
     "metadata": {},
     "output_type": "execute_result"
    }
   ],
   "source": [
    "data.tail()"
   ]
  },
  {
   "cell_type": "markdown",
   "metadata": {},
   "source": [
    "## Exploratory Data Analysis :"
   ]
  },
  {
   "cell_type": "code",
   "execution_count": null,
   "metadata": {},
   "outputs": [],
   "source": []
  }
 ],
 "metadata": {
  "kernelspec": {
   "display_name": "Python [default]",
   "language": "python",
   "name": "python3"
  },
  "language_info": {
   "codemirror_mode": {
    "name": "ipython",
    "version": 3
   },
   "file_extension": ".py",
   "mimetype": "text/x-python",
   "name": "python",
   "nbconvert_exporter": "python",
   "pygments_lexer": "ipython3",
   "version": "3.6.6"
  }
 },
 "nbformat": 4,
 "nbformat_minor": 2
}
